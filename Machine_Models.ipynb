{
  "nbformat": 4,
  "nbformat_minor": 0,
  "metadata": {
    "colab": {
      "provenance": []
    },
    "kernelspec": {
      "name": "python3",
      "display_name": "Python 3"
    },
    "language_info": {
      "name": "python"
    },
    "widgets": {
      "application/vnd.jupyter.widget-state+json": {
        "0befb9710b984f068621f5f28b25eab4": {
          "model_module": "@jupyter-widgets/controls",
          "model_name": "VBoxModel",
          "model_module_version": "1.5.0",
          "state": {
            "_dom_classes": [],
            "_model_module": "@jupyter-widgets/controls",
            "_model_module_version": "1.5.0",
            "_model_name": "VBoxModel",
            "_view_count": null,
            "_view_module": "@jupyter-widgets/controls",
            "_view_module_version": "1.5.0",
            "_view_name": "VBoxView",
            "box_style": "",
            "children": [
              "IPY_MODEL_5600ec48646d46128a60e3f136a604a2",
              "IPY_MODEL_fa71f869c7c8447789cc197f205f898c"
            ],
            "layout": "IPY_MODEL_bfcb4c753b474e70856f2b66b483e387"
          }
        },
        "5600ec48646d46128a60e3f136a604a2": {
          "model_module": "@jupyter-widgets/controls",
          "model_name": "LabelModel",
          "model_module_version": "1.5.0",
          "state": {
            "_dom_classes": [],
            "_model_module": "@jupyter-widgets/controls",
            "_model_module_version": "1.5.0",
            "_model_name": "LabelModel",
            "_view_count": null,
            "_view_module": "@jupyter-widgets/controls",
            "_view_module_version": "1.5.0",
            "_view_name": "LabelView",
            "description": "",
            "description_tooltip": null,
            "layout": "IPY_MODEL_9445efe7f98d4c978893e8d8f74d76f7",
            "placeholder": "​",
            "style": "IPY_MODEL_e99993e85f08435b9fec67b4b98301c7",
            "value": "0.015 MB of 0.015 MB uploaded\r"
          }
        },
        "fa71f869c7c8447789cc197f205f898c": {
          "model_module": "@jupyter-widgets/controls",
          "model_name": "FloatProgressModel",
          "model_module_version": "1.5.0",
          "state": {
            "_dom_classes": [],
            "_model_module": "@jupyter-widgets/controls",
            "_model_module_version": "1.5.0",
            "_model_name": "FloatProgressModel",
            "_view_count": null,
            "_view_module": "@jupyter-widgets/controls",
            "_view_module_version": "1.5.0",
            "_view_name": "ProgressView",
            "bar_style": "",
            "description": "",
            "description_tooltip": null,
            "layout": "IPY_MODEL_9d5508c8fd0d40e684c0987b4ec6ac3e",
            "max": 1,
            "min": 0,
            "orientation": "horizontal",
            "style": "IPY_MODEL_00032286492a4868a239a2418c713f05",
            "value": 1
          }
        },
        "bfcb4c753b474e70856f2b66b483e387": {
          "model_module": "@jupyter-widgets/base",
          "model_name": "LayoutModel",
          "model_module_version": "1.2.0",
          "state": {
            "_model_module": "@jupyter-widgets/base",
            "_model_module_version": "1.2.0",
            "_model_name": "LayoutModel",
            "_view_count": null,
            "_view_module": "@jupyter-widgets/base",
            "_view_module_version": "1.2.0",
            "_view_name": "LayoutView",
            "align_content": null,
            "align_items": null,
            "align_self": null,
            "border": null,
            "bottom": null,
            "display": null,
            "flex": null,
            "flex_flow": null,
            "grid_area": null,
            "grid_auto_columns": null,
            "grid_auto_flow": null,
            "grid_auto_rows": null,
            "grid_column": null,
            "grid_gap": null,
            "grid_row": null,
            "grid_template_areas": null,
            "grid_template_columns": null,
            "grid_template_rows": null,
            "height": null,
            "justify_content": null,
            "justify_items": null,
            "left": null,
            "margin": null,
            "max_height": null,
            "max_width": null,
            "min_height": null,
            "min_width": null,
            "object_fit": null,
            "object_position": null,
            "order": null,
            "overflow": null,
            "overflow_x": null,
            "overflow_y": null,
            "padding": null,
            "right": null,
            "top": null,
            "visibility": null,
            "width": null
          }
        },
        "9445efe7f98d4c978893e8d8f74d76f7": {
          "model_module": "@jupyter-widgets/base",
          "model_name": "LayoutModel",
          "model_module_version": "1.2.0",
          "state": {
            "_model_module": "@jupyter-widgets/base",
            "_model_module_version": "1.2.0",
            "_model_name": "LayoutModel",
            "_view_count": null,
            "_view_module": "@jupyter-widgets/base",
            "_view_module_version": "1.2.0",
            "_view_name": "LayoutView",
            "align_content": null,
            "align_items": null,
            "align_self": null,
            "border": null,
            "bottom": null,
            "display": null,
            "flex": null,
            "flex_flow": null,
            "grid_area": null,
            "grid_auto_columns": null,
            "grid_auto_flow": null,
            "grid_auto_rows": null,
            "grid_column": null,
            "grid_gap": null,
            "grid_row": null,
            "grid_template_areas": null,
            "grid_template_columns": null,
            "grid_template_rows": null,
            "height": null,
            "justify_content": null,
            "justify_items": null,
            "left": null,
            "margin": null,
            "max_height": null,
            "max_width": null,
            "min_height": null,
            "min_width": null,
            "object_fit": null,
            "object_position": null,
            "order": null,
            "overflow": null,
            "overflow_x": null,
            "overflow_y": null,
            "padding": null,
            "right": null,
            "top": null,
            "visibility": null,
            "width": null
          }
        },
        "e99993e85f08435b9fec67b4b98301c7": {
          "model_module": "@jupyter-widgets/controls",
          "model_name": "DescriptionStyleModel",
          "model_module_version": "1.5.0",
          "state": {
            "_model_module": "@jupyter-widgets/controls",
            "_model_module_version": "1.5.0",
            "_model_name": "DescriptionStyleModel",
            "_view_count": null,
            "_view_module": "@jupyter-widgets/base",
            "_view_module_version": "1.2.0",
            "_view_name": "StyleView",
            "description_width": ""
          }
        },
        "9d5508c8fd0d40e684c0987b4ec6ac3e": {
          "model_module": "@jupyter-widgets/base",
          "model_name": "LayoutModel",
          "model_module_version": "1.2.0",
          "state": {
            "_model_module": "@jupyter-widgets/base",
            "_model_module_version": "1.2.0",
            "_model_name": "LayoutModel",
            "_view_count": null,
            "_view_module": "@jupyter-widgets/base",
            "_view_module_version": "1.2.0",
            "_view_name": "LayoutView",
            "align_content": null,
            "align_items": null,
            "align_self": null,
            "border": null,
            "bottom": null,
            "display": null,
            "flex": null,
            "flex_flow": null,
            "grid_area": null,
            "grid_auto_columns": null,
            "grid_auto_flow": null,
            "grid_auto_rows": null,
            "grid_column": null,
            "grid_gap": null,
            "grid_row": null,
            "grid_template_areas": null,
            "grid_template_columns": null,
            "grid_template_rows": null,
            "height": null,
            "justify_content": null,
            "justify_items": null,
            "left": null,
            "margin": null,
            "max_height": null,
            "max_width": null,
            "min_height": null,
            "min_width": null,
            "object_fit": null,
            "object_position": null,
            "order": null,
            "overflow": null,
            "overflow_x": null,
            "overflow_y": null,
            "padding": null,
            "right": null,
            "top": null,
            "visibility": null,
            "width": null
          }
        },
        "00032286492a4868a239a2418c713f05": {
          "model_module": "@jupyter-widgets/controls",
          "model_name": "ProgressStyleModel",
          "model_module_version": "1.5.0",
          "state": {
            "_model_module": "@jupyter-widgets/controls",
            "_model_module_version": "1.5.0",
            "_model_name": "ProgressStyleModel",
            "_view_count": null,
            "_view_module": "@jupyter-widgets/base",
            "_view_module_version": "1.2.0",
            "_view_name": "StyleView",
            "bar_color": null,
            "description_width": ""
          }
        }
      }
    }
  },
  "cells": [
    {
      "cell_type": "code",
      "execution_count": 4,
      "metadata": {
        "colab": {
          "base_uri": "https://localhost:8080/"
        },
        "id": "d0tpL-ud8o4x",
        "outputId": "af224dcb-129e-4a5c-fa8a-443b334e32ae"
      },
      "outputs": [
        {
          "output_type": "stream",
          "name": "stdout",
          "text": [
            "Collecting weave\n",
            "  Downloading weave-0.50.11-py3-none-any.whl (30.1 MB)\n",
            "\u001b[2K     \u001b[90m━━━━━━━━━━━━━━━━━━━━━━━━━━━━━━━━━━━━━━━━\u001b[0m \u001b[32m30.1/30.1 MB\u001b[0m \u001b[31m42.1 MB/s\u001b[0m eta \u001b[36m0:00:00\u001b[0m\n",
            "\u001b[?25hRequirement already satisfied: typing-extensions>=4.0.0 in /usr/local/lib/python3.10/dist-packages (from weave) (4.12.2)\n",
            "Requirement already satisfied: pyarrow<17.0.0,>=14.0.1 in /usr/local/lib/python3.10/dist-packages (from weave) (14.0.2)\n",
            "Collecting openai>=1.0.0 (from weave)\n",
            "  Downloading openai-1.37.0-py3-none-any.whl (337 kB)\n",
            "\u001b[2K     \u001b[90m━━━━━━━━━━━━━━━━━━━━━━━━━━━━━━━━━━━━━━━━\u001b[0m \u001b[32m337.0/337.0 kB\u001b[0m \u001b[31m27.1 MB/s\u001b[0m eta \u001b[36m0:00:00\u001b[0m\n",
            "\u001b[?25hCollecting tiktoken>=0.4.0 (from weave)\n",
            "  Downloading tiktoken-0.7.0-cp310-cp310-manylinux_2_17_x86_64.manylinux2014_x86_64.whl (1.1 MB)\n",
            "\u001b[2K     \u001b[90m━━━━━━━━━━━━━━━━━━━━━━━━━━━━━━━━━━━━━━━━\u001b[0m \u001b[32m1.1/1.1 MB\u001b[0m \u001b[31m39.4 MB/s\u001b[0m eta \u001b[36m0:00:00\u001b[0m\n",
            "\u001b[?25hRequirement already satisfied: pydantic>=2.0.0 in /usr/local/lib/python3.10/dist-packages (from weave) (2.8.2)\n",
            "Requirement already satisfied: rich>=13.7.0 in /usr/local/lib/python3.10/dist-packages (from weave) (13.7.1)\n",
            "Requirement already satisfied: aiohttp>=3.8.3 in /usr/local/lib/python3.10/dist-packages (from weave) (3.9.5)\n",
            "Collecting aiofiles>=22.1.0 (from weave)\n",
            "  Downloading aiofiles-24.1.0-py3-none-any.whl (15 kB)\n",
            "Collecting aioprocessing>=2.0.1 (from weave)\n",
            "  Downloading aioprocessing-2.0.1-py3-none-any.whl (14 kB)\n",
            "Requirement already satisfied: Werkzeug>=3.0.3 in /usr/local/lib/python3.10/dist-packages (from weave) (3.0.3)\n",
            "Collecting janus>=1.0.0 (from weave)\n",
            "  Downloading janus-1.0.0-py3-none-any.whl (6.9 kB)\n",
            "Collecting python-json-logger>=2.0.4 (from weave)\n",
            "  Downloading python_json_logger-2.0.7-py3-none-any.whl (8.1 kB)\n",
            "Requirement already satisfied: numpy>=1.21 in /usr/local/lib/python3.10/dist-packages (from weave) (1.25.2)\n",
            "Collecting wandb>=0.16.4 (from weave)\n",
            "  Using cached wandb-0.17.5-py3-none-manylinux_2_5_x86_64.manylinux1_x86_64.manylinux_2_17_x86_64.manylinux2014_x86_64.whl (6.8 MB)\n",
            "Collecting graphql-core>3 (from weave)\n",
            "  Downloading graphql_core-3.2.3-py3-none-any.whl (202 kB)\n",
            "\u001b[2K     \u001b[90m━━━━━━━━━━━━━━━━━━━━━━━━━━━━━━━━━━━━━━━━\u001b[0m \u001b[32m202.9/202.9 kB\u001b[0m \u001b[31m15.8 MB/s\u001b[0m eta \u001b[36m0:00:00\u001b[0m\n",
            "\u001b[?25hCollecting gql[requests]>=3.4.1 (from weave)\n",
            "  Downloading gql-3.5.0-py2.py3-none-any.whl (74 kB)\n",
            "\u001b[2K     \u001b[90m━━━━━━━━━━━━━━━━━━━━━━━━━━━━━━━━━━━━━━━━\u001b[0m \u001b[32m74.0/74.0 kB\u001b[0m \u001b[31m4.8 MB/s\u001b[0m eta \u001b[36m0:00:00\u001b[0m\n",
            "\u001b[?25hCollecting analytics-python>=1.2.9 (from weave)\n",
            "  Downloading analytics_python-1.4.post1-py2.py3-none-any.whl (23 kB)\n",
            "Requirement already satisfied: packaging>=21.0 in /usr/local/lib/python3.10/dist-packages (from weave) (24.1)\n",
            "Requirement already satisfied: tenacity!=8.4.0,>=8.3.0 in /usr/local/lib/python3.10/dist-packages (from weave) (8.5.0)\n",
            "Collecting emoji>=2.12.1 (from weave)\n",
            "  Downloading emoji-2.12.1-py3-none-any.whl (431 kB)\n",
            "\u001b[2K     \u001b[90m━━━━━━━━━━━━━━━━━━━━━━━━━━━━━━━━━━━━━━━━\u001b[0m \u001b[32m431.4/431.4 kB\u001b[0m \u001b[31m23.3 MB/s\u001b[0m eta \u001b[36m0:00:00\u001b[0m\n",
            "\u001b[?25hRequirement already satisfied: aiosignal>=1.1.2 in /usr/local/lib/python3.10/dist-packages (from aiohttp>=3.8.3->weave) (1.3.1)\n",
            "Requirement already satisfied: attrs>=17.3.0 in /usr/local/lib/python3.10/dist-packages (from aiohttp>=3.8.3->weave) (23.2.0)\n",
            "Requirement already satisfied: frozenlist>=1.1.1 in /usr/local/lib/python3.10/dist-packages (from aiohttp>=3.8.3->weave) (1.4.1)\n",
            "Requirement already satisfied: multidict<7.0,>=4.5 in /usr/local/lib/python3.10/dist-packages (from aiohttp>=3.8.3->weave) (6.0.5)\n",
            "Requirement already satisfied: yarl<2.0,>=1.0 in /usr/local/lib/python3.10/dist-packages (from aiohttp>=3.8.3->weave) (1.9.4)\n",
            "Requirement already satisfied: async-timeout<5.0,>=4.0 in /usr/local/lib/python3.10/dist-packages (from aiohttp>=3.8.3->weave) (4.0.3)\n",
            "Requirement already satisfied: requests<3.0,>=2.7 in /usr/local/lib/python3.10/dist-packages (from analytics-python>=1.2.9->weave) (2.31.0)\n",
            "Requirement already satisfied: six>=1.5 in /usr/local/lib/python3.10/dist-packages (from analytics-python>=1.2.9->weave) (1.16.0)\n",
            "Collecting monotonic>=1.5 (from analytics-python>=1.2.9->weave)\n",
            "  Downloading monotonic-1.6-py2.py3-none-any.whl (8.2 kB)\n",
            "Collecting backoff==1.10.0 (from analytics-python>=1.2.9->weave)\n",
            "  Downloading backoff-1.10.0-py2.py3-none-any.whl (31 kB)\n",
            "Requirement already satisfied: python-dateutil>2.1 in /usr/local/lib/python3.10/dist-packages (from analytics-python>=1.2.9->weave) (2.8.2)\n",
            "INFO: pip is looking at multiple versions of gql[requests] to determine which version is compatible with other requirements. This could take a while.\n",
            "Collecting gql[requests]>=3.4.1 (from weave)\n",
            "  Downloading gql-3.4.1-py2.py3-none-any.whl (65 kB)\n",
            "\u001b[2K     \u001b[90m━━━━━━━━━━━━━━━━━━━━━━━━━━━━━━━━━━━━━━━━\u001b[0m \u001b[32m65.1/65.1 kB\u001b[0m \u001b[31m4.9 MB/s\u001b[0m eta \u001b[36m0:00:00\u001b[0m\n",
            "\u001b[?25hCollecting analytics-python>=1.2.9 (from weave)\n",
            "  Downloading analytics_python-1.4.0-py2.py3-none-any.whl (15 kB)\n",
            "  Downloading analytics_python-1.3.1-py2.py3-none-any.whl (16 kB)\n",
            "  Downloading analytics_python-1.2.9-py2.py3-none-any.whl (13 kB)\n",
            "Collecting backoff<3.0,>=1.11.1 (from gql[requests]>=3.4.1->weave)\n",
            "  Downloading backoff-2.2.1-py3-none-any.whl (15 kB)\n",
            "Requirement already satisfied: anyio<5,>=3.0 in /usr/local/lib/python3.10/dist-packages (from gql[requests]>=3.4.1->weave) (3.7.1)\n",
            "Collecting requests-toolbelt<2,>=1.0.0 (from gql[requests]>=3.4.1->weave)\n",
            "  Downloading requests_toolbelt-1.0.0-py2.py3-none-any.whl (54 kB)\n",
            "\u001b[2K     \u001b[90m━━━━━━━━━━━━━━━━━━━━━━━━━━━━━━━━━━━━━━━━\u001b[0m \u001b[32m54.5/54.5 kB\u001b[0m \u001b[31m6.0 MB/s\u001b[0m eta \u001b[36m0:00:00\u001b[0m\n",
            "\u001b[?25hRequirement already satisfied: distro<2,>=1.7.0 in /usr/lib/python3/dist-packages (from openai>=1.0.0->weave) (1.7.0)\n",
            "Collecting httpx<1,>=0.23.0 (from openai>=1.0.0->weave)\n",
            "  Downloading httpx-0.27.0-py3-none-any.whl (75 kB)\n",
            "\u001b[2K     \u001b[90m━━━━━━━━━━━━━━━━━━━━━━━━━━━━━━━━━━━━━━━━\u001b[0m \u001b[32m75.6/75.6 kB\u001b[0m \u001b[31m6.8 MB/s\u001b[0m eta \u001b[36m0:00:00\u001b[0m\n",
            "\u001b[?25hRequirement already satisfied: sniffio in /usr/local/lib/python3.10/dist-packages (from openai>=1.0.0->weave) (1.3.1)\n",
            "Requirement already satisfied: tqdm>4 in /usr/local/lib/python3.10/dist-packages (from openai>=1.0.0->weave) (4.66.4)\n",
            "Requirement already satisfied: annotated-types>=0.4.0 in /usr/local/lib/python3.10/dist-packages (from pydantic>=2.0.0->weave) (0.7.0)\n",
            "Requirement already satisfied: pydantic-core==2.20.1 in /usr/local/lib/python3.10/dist-packages (from pydantic>=2.0.0->weave) (2.20.1)\n",
            "Requirement already satisfied: markdown-it-py>=2.2.0 in /usr/local/lib/python3.10/dist-packages (from rich>=13.7.0->weave) (3.0.0)\n",
            "Requirement already satisfied: pygments<3.0.0,>=2.13.0 in /usr/local/lib/python3.10/dist-packages (from rich>=13.7.0->weave) (2.16.1)\n",
            "Requirement already satisfied: regex>=2022.1.18 in /usr/local/lib/python3.10/dist-packages (from tiktoken>=0.4.0->weave) (2024.5.15)\n",
            "Requirement already satisfied: click!=8.0.0,>=7.1 in /usr/local/lib/python3.10/dist-packages (from wandb>=0.16.4->weave) (8.1.7)\n",
            "Collecting docker-pycreds>=0.4.0 (from wandb>=0.16.4->weave)\n",
            "  Using cached docker_pycreds-0.4.0-py2.py3-none-any.whl (9.0 kB)\n",
            "Collecting gitpython!=3.1.29,>=1.0.0 (from wandb>=0.16.4->weave)\n",
            "  Using cached GitPython-3.1.43-py3-none-any.whl (207 kB)\n",
            "Requirement already satisfied: platformdirs in /usr/local/lib/python3.10/dist-packages (from wandb>=0.16.4->weave) (4.2.2)\n",
            "Requirement already satisfied: protobuf!=4.21.0,<6,>=3.19.0 in /usr/local/lib/python3.10/dist-packages (from wandb>=0.16.4->weave) (3.20.3)\n",
            "Requirement already satisfied: psutil>=5.0.0 in /usr/local/lib/python3.10/dist-packages (from wandb>=0.16.4->weave) (5.9.5)\n",
            "Requirement already satisfied: pyyaml in /usr/local/lib/python3.10/dist-packages (from wandb>=0.16.4->weave) (6.0.1)\n",
            "Collecting sentry-sdk>=1.0.0 (from wandb>=0.16.4->weave)\n",
            "  Using cached sentry_sdk-2.10.0-py2.py3-none-any.whl (302 kB)\n",
            "Collecting setproctitle (from wandb>=0.16.4->weave)\n",
            "  Using cached setproctitle-1.3.3-cp310-cp310-manylinux_2_5_x86_64.manylinux1_x86_64.manylinux_2_17_x86_64.manylinux2014_x86_64.whl (30 kB)\n",
            "Requirement already satisfied: setuptools in /usr/local/lib/python3.10/dist-packages (from wandb>=0.16.4->weave) (67.7.2)\n",
            "Requirement already satisfied: MarkupSafe>=2.1.1 in /usr/local/lib/python3.10/dist-packages (from Werkzeug>=3.0.3->weave) (2.1.5)\n",
            "Requirement already satisfied: idna>=2.8 in /usr/local/lib/python3.10/dist-packages (from anyio<5,>=3.0->gql[requests]>=3.4.1->weave) (3.7)\n",
            "Requirement already satisfied: exceptiongroup in /usr/local/lib/python3.10/dist-packages (from anyio<5,>=3.0->gql[requests]>=3.4.1->weave) (1.2.2)\n",
            "Collecting gitdb<5,>=4.0.1 (from gitpython!=3.1.29,>=1.0.0->wandb>=0.16.4->weave)\n",
            "  Downloading gitdb-4.0.11-py3-none-any.whl (62 kB)\n",
            "\u001b[2K     \u001b[90m━━━━━━━━━━━━━━━━━━━━━━━━━━━━━━━━━━━━━━━━\u001b[0m \u001b[32m62.7/62.7 kB\u001b[0m \u001b[31m8.1 MB/s\u001b[0m eta \u001b[36m0:00:00\u001b[0m\n",
            "\u001b[?25hRequirement already satisfied: certifi in /usr/local/lib/python3.10/dist-packages (from httpx<1,>=0.23.0->openai>=1.0.0->weave) (2024.7.4)\n",
            "Collecting httpcore==1.* (from httpx<1,>=0.23.0->openai>=1.0.0->weave)\n",
            "  Downloading httpcore-1.0.5-py3-none-any.whl (77 kB)\n",
            "\u001b[2K     \u001b[90m━━━━━━━━━━━━━━━━━━━━━━━━━━━━━━━━━━━━━━━━\u001b[0m \u001b[32m77.9/77.9 kB\u001b[0m \u001b[31m8.7 MB/s\u001b[0m eta \u001b[36m0:00:00\u001b[0m\n",
            "\u001b[?25hCollecting h11<0.15,>=0.13 (from httpcore==1.*->httpx<1,>=0.23.0->openai>=1.0.0->weave)\n",
            "  Downloading h11-0.14.0-py3-none-any.whl (58 kB)\n",
            "\u001b[2K     \u001b[90m━━━━━━━━━━━━━━━━━━━━━━━━━━━━━━━━━━━━━━━━\u001b[0m \u001b[32m58.3/58.3 kB\u001b[0m \u001b[31m6.1 MB/s\u001b[0m eta \u001b[36m0:00:00\u001b[0m\n",
            "\u001b[?25hRequirement already satisfied: mdurl~=0.1 in /usr/local/lib/python3.10/dist-packages (from markdown-it-py>=2.2.0->rich>=13.7.0->weave) (0.1.2)\n",
            "Requirement already satisfied: charset-normalizer<4,>=2 in /usr/local/lib/python3.10/dist-packages (from requests<3.0,>=2.7->analytics-python>=1.2.9->weave) (3.3.2)\n",
            "Requirement already satisfied: urllib3<3,>=1.21.1 in /usr/local/lib/python3.10/dist-packages (from requests<3.0,>=2.7->analytics-python>=1.2.9->weave) (2.0.7)\n",
            "Collecting smmap<6,>=3.0.1 (from gitdb<5,>=4.0.1->gitpython!=3.1.29,>=1.0.0->wandb>=0.16.4->weave)\n",
            "  Downloading smmap-5.0.1-py3-none-any.whl (24 kB)\n",
            "Installing collected packages: smmap, setproctitle, sentry-sdk, python-json-logger, janus, h11, graphql-core, emoji, docker-pycreds, backoff, aioprocessing, aiofiles, tiktoken, requests-toolbelt, httpcore, gql, gitdb, analytics-python, httpx, gitpython, wandb, openai, weave\n",
            "Successfully installed aiofiles-24.1.0 aioprocessing-2.0.1 analytics-python-1.2.9 backoff-2.2.1 docker-pycreds-0.4.0 emoji-2.12.1 gitdb-4.0.11 gitpython-3.1.43 gql-3.5.0 graphql-core-3.2.3 h11-0.14.0 httpcore-1.0.5 httpx-0.27.0 janus-1.0.0 openai-1.37.0 python-json-logger-2.0.7 requests-toolbelt-1.0.0 sentry-sdk-2.10.0 setproctitle-1.3.3 smmap-5.0.1 tiktoken-0.7.0 wandb-0.17.5 weave-0.50.11\n"
          ]
        }
      ],
      "source": [
        "pip install weave"
      ]
    },
    {
      "cell_type": "code",
      "source": [
        "pip install wandb"
      ],
      "metadata": {
        "colab": {
          "base_uri": "https://localhost:8080/"
        },
        "id": "jt_kQ_hHm8zk",
        "outputId": "70c6a121-270d-4ebe-a999-25873452fabb"
      },
      "execution_count": 5,
      "outputs": [
        {
          "output_type": "stream",
          "name": "stdout",
          "text": [
            "Requirement already satisfied: wandb in /usr/local/lib/python3.10/dist-packages (0.17.5)\n",
            "Requirement already satisfied: click!=8.0.0,>=7.1 in /usr/local/lib/python3.10/dist-packages (from wandb) (8.1.7)\n",
            "Requirement already satisfied: docker-pycreds>=0.4.0 in /usr/local/lib/python3.10/dist-packages (from wandb) (0.4.0)\n",
            "Requirement already satisfied: gitpython!=3.1.29,>=1.0.0 in /usr/local/lib/python3.10/dist-packages (from wandb) (3.1.43)\n",
            "Requirement already satisfied: platformdirs in /usr/local/lib/python3.10/dist-packages (from wandb) (4.2.2)\n",
            "Requirement already satisfied: protobuf!=4.21.0,<6,>=3.19.0 in /usr/local/lib/python3.10/dist-packages (from wandb) (3.20.3)\n",
            "Requirement already satisfied: psutil>=5.0.0 in /usr/local/lib/python3.10/dist-packages (from wandb) (5.9.5)\n",
            "Requirement already satisfied: pyyaml in /usr/local/lib/python3.10/dist-packages (from wandb) (6.0.1)\n",
            "Requirement already satisfied: requests<3,>=2.0.0 in /usr/local/lib/python3.10/dist-packages (from wandb) (2.31.0)\n",
            "Requirement already satisfied: sentry-sdk>=1.0.0 in /usr/local/lib/python3.10/dist-packages (from wandb) (2.10.0)\n",
            "Requirement already satisfied: setproctitle in /usr/local/lib/python3.10/dist-packages (from wandb) (1.3.3)\n",
            "Requirement already satisfied: setuptools in /usr/local/lib/python3.10/dist-packages (from wandb) (67.7.2)\n",
            "Requirement already satisfied: six>=1.4.0 in /usr/local/lib/python3.10/dist-packages (from docker-pycreds>=0.4.0->wandb) (1.16.0)\n",
            "Requirement already satisfied: gitdb<5,>=4.0.1 in /usr/local/lib/python3.10/dist-packages (from gitpython!=3.1.29,>=1.0.0->wandb) (4.0.11)\n",
            "Requirement already satisfied: charset-normalizer<4,>=2 in /usr/local/lib/python3.10/dist-packages (from requests<3,>=2.0.0->wandb) (3.3.2)\n",
            "Requirement already satisfied: idna<4,>=2.5 in /usr/local/lib/python3.10/dist-packages (from requests<3,>=2.0.0->wandb) (3.7)\n",
            "Requirement already satisfied: urllib3<3,>=1.21.1 in /usr/local/lib/python3.10/dist-packages (from requests<3,>=2.0.0->wandb) (2.0.7)\n",
            "Requirement already satisfied: certifi>=2017.4.17 in /usr/local/lib/python3.10/dist-packages (from requests<3,>=2.0.0->wandb) (2024.7.4)\n",
            "Requirement already satisfied: smmap<6,>=3.0.1 in /usr/local/lib/python3.10/dist-packages (from gitdb<5,>=4.0.1->gitpython!=3.1.29,>=1.0.0->wandb) (5.0.1)\n"
          ]
        }
      ]
    },
    {
      "cell_type": "code",
      "source": [
        "\n",
        "import wandb\n",
        "import pandas as pd\n",
        "import numpy as np\n",
        "import matplotlib.pyplot as plt\n",
        "import seaborn as sns\n",
        "from sklearn.tree import DecisionTreeClassifier, export_graphviz\n",
        "from sklearn.linear_model import LogisticRegression\n",
        "from sklearn.metrics import accuracy_score\n",
        "from sklearn.model_selection import train_test_split\n",
        "from IPython.display import Image, display, Markdown\n",
        "import graphviz\n",
        "import pydotplus\n",
        "import io\n",
        "\n",
        "%matplotlib inline\n",
        "\n",
        "# Initialize wandb\n",
        "wandb.login()\n",
        "run = wandb.init(project=\"urlset-classification\")\n",
        "\n",
        "# Read the file in binary mode\n",
        "csv_file_path = '/content/urlset.csv'\n",
        "with open(csv_file_path, 'rb') as file:\n",
        "    raw_data = file.read()\n",
        "\n",
        "decoded_data = raw_data.decode('MacRoman', errors='replace')\n",
        "\n",
        "# Use io.StringIO\n",
        "phishing = pd.read_csv(io.StringIO(decoded_data), on_bad_lines='skip')\n",
        "\n",
        "# Display basic info\n",
        "print(phishing.head())\n",
        "print(phishing.shape)\n",
        "print(phishing.tail())\n",
        "print(phishing.isnull().sum())\n",
        "\n",
        "# Visualize missing data\n",
        "sns.heatmap(phishing.isnull(), yticklabels=False, cbar=True, cmap='viridis')\n",
        "\n",
        "# Drop non-numeric columns and handle missing values\n",
        "phishing = phishing.drop(columns=['domain'])\n",
        "\n",
        "# Define a function to clean non-numeric values\n",
        "def clean_column(column, default_value):\n",
        "    column = pd.to_numeric(column, errors='coerce')\n",
        "    column = column.fillna(default_value)\n",
        "    return column\n",
        "\n",
        "# Apply cleaning function to necessary columns\n",
        "phishing['ranking'] = clean_column(phishing['ranking'], 10000000)\n",
        "phishing['mld_res'] = clean_column(phishing['mld_res'], 0)\n",
        "phishing['mld.ps_res'] = clean_column(phishing['mld.ps_res'], 0)\n",
        "phishing['card_rem'] = clean_column(phishing['card_rem'], 6)\n",
        "phishing['ratio_Rrem'] = clean_column(phishing['ratio_Rrem'], 152.674)\n",
        "phishing['ratio_Arem'] = clean_column(phishing['ratio_Arem'], 82)\n",
        "phishing['jaccard_RR'] = clean_column(phishing['jaccard_RR'], 0)\n",
        "phishing['jaccard_RA'] = clean_column(phishing['jaccard_RA'], 0)\n",
        "phishing['jaccard_AR'] = clean_column(phishing['jaccard_AR'], 0)\n",
        "phishing['jaccard_AA'] = clean_column(phishing['jaccard_AA'], 0)\n",
        "phishing['jaccard_ARrd'] = clean_column(phishing['jaccard_ARrd'], 0)\n",
        "phishing['jaccard_ARrem'] = clean_column(phishing['jaccard_ARrem'], 0)\n",
        "phishing['label'] = clean_column(phishing['label'], 0).astype(int)\n",
        "\n",
        "# Ensure all data is numeric\n",
        "phishing = phishing.apply(pd.to_numeric, errors='coerce')\n",
        "\n",
        "# Separate features and target\n",
        "X = phishing.drop('label', axis=1)\n",
        "y = phishing['label']\n",
        "\n",
        "# Split the data\n",
        "X_train, X_test, y_train, y_test = train_test_split(X, y, test_size=0.3, random_state=42)\n",
        "\n",
        "# Decision Tree Classifier\n",
        "clf_dt = DecisionTreeClassifier(random_state=42)\n",
        "clf_dt.fit(X_train, y_train)\n",
        "\n",
        "y_pred_dt = clf_dt.predict(X_test)\n",
        "accuracy_dt = accuracy_score(y_test, y_pred_dt)\n",
        "print(f'Decision Tree Accuracy: {accuracy_dt:.2f}')\n",
        "wandb.log({\"decision_tree_accuracy\": accuracy_dt})\n",
        "\n",
        "importances = clf_dt.feature_importances_\n",
        "feature_importance_df = pd.DataFrame({\n",
        "    'feature': X.columns,\n",
        "    'importance': importances\n",
        "}).sort_values(by='importance', ascending=False)\n",
        "\n",
        "plt.figure(figsize=(10, 8))\n",
        "sns.barplot(x='importance', y='feature', data=feature_importance_df)\n",
        "plt.title('Feature Importances')\n",
        "plt.show()\n",
        "\n",
        "# Visualize the Decision Tree\n",
        "dot_data = export_graphviz(clf_dt, feature_names=X.columns,\n",
        "                           class_names=['non-phishing', 'phishing'],\n",
        "                           filled=True, out_file=None)\n",
        "graph = pydotplus.graph_from_dot_data(dot_data)\n",
        "graph.write_png(\"decision_tree.png\")\n",
        "Image(\"decision_tree.png\")\n",
        "\n",
        "# Logistic Regression Classifier\n",
        "clf_lr = LogisticRegression(max_iter=1000, random_state=42)\n",
        "clf_lr.fit(X_train, y_train)\n",
        "\n",
        "y_pred_lr = clf_lr.predict(X_test)\n",
        "accuracy_lr = accuracy_score(y_test, y_pred_lr)\n",
        "print(f'Logistic Regression Accuracy: {accuracy_lr:.2f}')\n",
        "wandb.log({\"logistic_regression_accuracy\": accuracy_lr})\n",
        "\n",
        "# Sample test data\n",
        "testData = [\n",
        "    [2567, 0, 0, 10.0, 60.076923, 60.153846, 0.0, 0.0, 0.0, 0.0, 0.0, 0.722832, 1],\n",
        "    [1177, 0, 0, 11.0, 150.636364, 152.272727, 0.0, 0.0, 0.0, 0.0, 0.0, 0.768577, 1],\n",
        "    [10000000, 0, 0, 14.0, 73.500000, 72.642857, 0.0, 0.0, 0.0, 0.0, 0.0, 0.726582, 1],\n",
        "    [46091, 0, 0, 6.0, 562.000000, 590.666667, 0.0, 0.0, 0.0, 0.0, 0.0, 0.85964, 1]\n",
        "]\n",
        "\n",
        "columns_to_use = ['ranking', 'mld_res', 'mld.ps_res', 'card_rem', 'ratio_Rrem', 'ratio_Arem',\n",
        "                  'jaccard_RR', 'jaccard_RA', 'jaccard_AR', 'jaccard_AA', 'jaccard_ARrd', 'jaccard_ARrem']\n",
        "\n",
        "testData = pd.DataFrame(testData, columns=columns_to_use + ['label'])\n",
        "\n",
        "testY = testData['label']\n",
        "testX = testData.drop(['label'], axis=1)\n",
        "\n",
        "# Predictions using Decision Tree\n",
        "predY_dt = clf_dt.predict(testX)\n",
        "predictions_dt = pd.concat([testData.reset_index(drop=True), pd.Series(predY_dt, name='Predicted Class')], axis=1)\n",
        "accuracy_test_dt = accuracy_score(testY, predY_dt)\n",
        "print(f'Accuracy on test data with Decision Tree: {accuracy_test_dt:.2f}')\n",
        "wandb.log({\"test_accuracy_decision_tree\": accuracy_test_dt})\n",
        "\n",
        "# Predictions using Logistic Regression\n",
        "predY_lr = clf_lr.predict(testX)\n",
        "predictions_lr = pd.concat([testData.reset_index(drop=True), pd.Series(predY_lr, name='Predicted Class')], axis=1)\n",
        "accuracy_test_lr = accuracy_score(testY, predY_lr)\n",
        "print(f'Accuracy on test data with Logistic Regression: {accuracy_test_lr:.2f}')\n",
        "wandb.log({\"test_accuracy_logistic_regression\": accuracy_test_lr})\n",
        "\n",
        "# Decision Tree Depth Analysis\n",
        "maxDepths = [2, 3, 4, 5, 6, 7, 8, 9, 10, 15, 20, 25, 30, 35, 40, 45, 50]\n",
        "trainAcc = np.zeros(len(maxDepths))\n",
        "testAcc = np.zeros(len(maxDepths))\n",
        "index = 0\n",
        "\n",
        "for depth in maxDepths:\n",
        "    clf = DecisionTreeClassifier(max_depth=depth, random_state=42)\n",
        "    clf.fit(X_train, y_train)\n",
        "    Y_predTrain = clf.predict(X_train)\n",
        "    Y_predTest = clf.predict(X_test)\n",
        "    trainAcc[index] = accuracy_score(y_train, Y_predTrain)  # Training data accuracy\n",
        "    testAcc[index] = accuracy_score(y_test, Y_predTest)     # Test data accuracy\n",
        "    wandb.log({f\"train_accuracy_depth_{depth}\": trainAcc[index],\n",
        "               f\"test_accuracy_depth_{depth}\": testAcc[index]})\n",
        "    index += 1\n",
        "\n",
        "plt.figure(figsize=(12, 6))\n",
        "plt.plot(maxDepths, trainAcc, 'ro-', maxDepths, testAcc, 'bv--')\n",
        "plt.legend(['Training Accuracy', 'Test Accuracy'])\n",
        "plt.xlabel('Max Depth')\n",
        "plt.ylabel('Accuracy')\n",
        "plt.title('Decision Tree Accuracy for Different Max Depths')\n",
        "plt.grid(True)\n",
        "plt.show()\n",
        "\n",
        "# Display analysis of optimum depth\n",
        "testAcc_max = testAcc.max()"
      ],
      "metadata": {
        "colab": {
          "base_uri": "https://localhost:8080/",
          "height": 1000
        },
        "id": "fe3r-C6jEhfj",
        "outputId": "30f6b11f-cae3-4b7a-940d-ae6014d8730b"
      },
      "execution_count": 6,
      "outputs": [
        {
          "output_type": "display_data",
          "data": {
            "text/plain": [
              "<IPython.core.display.Javascript object>"
            ],
            "application/javascript": [
              "\n",
              "        window._wandbApiKey = new Promise((resolve, reject) => {\n",
              "            function loadScript(url) {\n",
              "            return new Promise(function(resolve, reject) {\n",
              "                let newScript = document.createElement(\"script\");\n",
              "                newScript.onerror = reject;\n",
              "                newScript.onload = resolve;\n",
              "                document.body.appendChild(newScript);\n",
              "                newScript.src = url;\n",
              "            });\n",
              "            }\n",
              "            loadScript(\"https://cdn.jsdelivr.net/npm/postmate/build/postmate.min.js\").then(() => {\n",
              "            const iframe = document.createElement('iframe')\n",
              "            iframe.style.cssText = \"width:0;height:0;border:none\"\n",
              "            document.body.appendChild(iframe)\n",
              "            const handshake = new Postmate({\n",
              "                container: iframe,\n",
              "                url: 'https://wandb.ai/authorize'\n",
              "            });\n",
              "            const timeout = setTimeout(() => reject(\"Couldn't auto authenticate\"), 5000)\n",
              "            handshake.then(function(child) {\n",
              "                child.on('authorize', data => {\n",
              "                    clearTimeout(timeout)\n",
              "                    resolve(data)\n",
              "                });\n",
              "            });\n",
              "            })\n",
              "        });\n",
              "    "
            ]
          },
          "metadata": {}
        },
        {
          "output_type": "stream",
          "name": "stderr",
          "text": [
            "\u001b[34m\u001b[1mwandb\u001b[0m: Appending key for api.wandb.ai to your netrc file: /root/.netrc\n",
            "\u001b[34m\u001b[1mwandb\u001b[0m: Currently logged in as: \u001b[33misaacmwongela71\u001b[0m (\u001b[33misaacmwongela71-united-states-international-university-a5732\u001b[0m). Use \u001b[1m`wandb login --relogin`\u001b[0m to force relogin\n"
          ]
        },
        {
          "output_type": "display_data",
          "data": {
            "text/plain": [
              "<IPython.core.display.HTML object>"
            ],
            "text/html": [
              "Tracking run with wandb version 0.17.5"
            ]
          },
          "metadata": {}
        },
        {
          "output_type": "display_data",
          "data": {
            "text/plain": [
              "<IPython.core.display.HTML object>"
            ],
            "text/html": [
              "Run data is saved locally in <code>/content/wandb/run-20240723_163854-9el0fgsv</code>"
            ]
          },
          "metadata": {}
        },
        {
          "output_type": "display_data",
          "data": {
            "text/plain": [
              "<IPython.core.display.HTML object>"
            ],
            "text/html": [
              "Syncing run <strong><a href='https://wandb.ai/isaacmwongela71-united-states-international-university-a5732/urlset-classification/runs/9el0fgsv' target=\"_blank\">breezy-paper-11</a></strong> to <a href='https://wandb.ai/isaacmwongela71-united-states-international-university-a5732/urlset-classification' target=\"_blank\">Weights & Biases</a> (<a href='https://wandb.me/run' target=\"_blank\">docs</a>)<br/>"
            ]
          },
          "metadata": {}
        },
        {
          "output_type": "display_data",
          "data": {
            "text/plain": [
              "<IPython.core.display.HTML object>"
            ],
            "text/html": [
              " View project at <a href='https://wandb.ai/isaacmwongela71-united-states-international-university-a5732/urlset-classification' target=\"_blank\">https://wandb.ai/isaacmwongela71-united-states-international-university-a5732/urlset-classification</a>"
            ]
          },
          "metadata": {}
        },
        {
          "output_type": "display_data",
          "data": {
            "text/plain": [
              "<IPython.core.display.HTML object>"
            ],
            "text/html": [
              " View run at <a href='https://wandb.ai/isaacmwongela71-united-states-international-university-a5732/urlset-classification/runs/9el0fgsv' target=\"_blank\">https://wandb.ai/isaacmwongela71-united-states-international-university-a5732/urlset-classification/runs/9el0fgsv</a>"
            ]
          },
          "metadata": {}
        },
        {
          "output_type": "stream",
          "name": "stderr",
          "text": [
            "<ipython-input-6-f8655bbe5666>:29: DtypeWarning: Columns (1,2,3,11,12) have mixed types. Specify dtype option on import or set low_memory=False.\n",
            "  phishing = pd.read_csv(io.StringIO(decoded_data), on_bad_lines='skip')\n"
          ]
        },
        {
          "output_type": "stream",
          "name": "stdout",
          "text": [
            "                                              domain   ranking mld_res  \\\n",
            "0  nobell.it/70ffb52d079109dca5664cce6f317373782/...  10000000     1.0   \n",
            "1  www.dghjdgf.com/paypal.co.uk/cycgi-bin/webscrc...  10000000     0.0   \n",
            "2  serviciosbys.com/paypal.cgi.bin.get-into.herf....  10000000     0.0   \n",
            "3  mail.printakid.com/www.online.americanexpress....  10000000     0.0   \n",
            "4  thewhiskeydregs.com/wp-content/themes/widescre...  10000000     0.0   \n",
            "\n",
            "  mld.ps_res  card_rem  ratio_Rrem  ratio_Arem  jaccard_RR  jaccard_RA  \\\n",
            "0        0.0      18.0  107.611111  107.277778         0.0         0.0   \n",
            "1        0.0      11.0  150.636364  152.272727         0.0         0.0   \n",
            "2        0.0      14.0   73.500000   72.642857         0.0         0.0   \n",
            "3        0.0       6.0  562.000000  590.666667         0.0         0.0   \n",
            "4        0.0       8.0   29.000000   24.125000         0.0         0.0   \n",
            "\n",
            "   jaccard_AR  jaccard_AA jaccard_ARrd jaccard_ARrem  label  \n",
            "0         0.0         0.0          0.8      0.795729    1.0  \n",
            "1         0.0         0.0            0      0.768577    1.0  \n",
            "2         0.0         0.0            0      0.726582    1.0  \n",
            "3         0.0         0.0            0       0.85964    1.0  \n",
            "4         0.0         0.0            0      0.748971    1.0  \n",
            "(96005, 14)\n",
            "                                              domain ranking mld_res  \\\n",
            "96000        xbox360.ign.com/objects/850/850402.html     339     1.0   \n",
            "96001   games.teamxbox.com/xbox-360/1860/Dead-Space/   63029     1.0   \n",
            "96002     www.gamespot.com/xbox360/action/deadspace/     753     1.0   \n",
            "96003  en.wikipedia.org/wiki/Dead_Space_(video_game)       6     1.0   \n",
            "96004      www.angelfire.com/goth/devilmaycrytonite/    2547     1.0   \n",
            "\n",
            "      mld.ps_res  card_rem  ratio_Rrem  ratio_Arem  jaccard_RR  jaccard_RA  \\\n",
            "96000        1.0       2.0       142.5  141.000000    0.009009    0.009091   \n",
            "96001        0.0       3.0       114.0  128.333333    0.002899    0.002577   \n",
            "96002        1.0       3.0        91.0  101.333333    0.000000    0.003106   \n",
            "96003        1.0       4.0       682.0  744.250000    0.033075    0.029412   \n",
            "96004        1.0       5.0        32.4   27.200000    0.022222    0.032680   \n",
            "\n",
            "       jaccard_AR  jaccard_AA jaccard_ARrd jaccard_ARrem  label  \n",
            "96000    0.006536    0.006601      0.45098      0.846906    0.0  \n",
            "96001    0.002907    0.002584         0.75      0.714623    0.0  \n",
            "96002    0.000000    0.000000     0.111111      0.648571    0.0  \n",
            "96003    0.030250    0.029145     0.809735      0.840323    0.0  \n",
            "96004    0.017341    0.020408     0.636364      0.674157    0.0  \n",
            "domain            0\n",
            "ranking          52\n",
            "mld_res          70\n",
            "mld.ps_res       81\n",
            "card_rem         82\n",
            "ratio_Rrem       82\n",
            "ratio_Arem       82\n",
            "jaccard_RR       83\n",
            "jaccard_RA       84\n",
            "jaccard_AR       85\n",
            "jaccard_AA       86\n",
            "jaccard_ARrd     86\n",
            "jaccard_ARrem    88\n",
            "label            92\n",
            "dtype: int64\n",
            "Decision Tree Accuracy: 0.94\n"
          ]
        },
        {
          "output_type": "display_data",
          "data": {
            "text/plain": [
              "<Figure size 640x480 with 2 Axes>"
            ],
            "image/png": "[encoded data removed]"
          },
          "metadata": {}
        },
        {
          "output_type": "display_data",
          "data": {
            "text/plain": [
              "<Figure size 1000x800 with 1 Axes>"
            ],
            "image/png": "[encoded data removed]"
          },
          "metadata": {}
        },
        {
          "output_type": "stream",
          "name": "stdout",
          "text": [
            "dot: graph is too large for cairo-renderer bitmaps. Scaling by 0.133626 to fit\n",
            "\n",
            "Logistic Regression Accuracy: 0.50\n",
            "Accuracy on test data with Decision Tree: 0.50\n",
            "Accuracy on test data with Logistic Regression: 1.00\n"
          ]
        },
        {
          "output_type": "display_data",
          "data": {
            "text/plain": [
              "<Figure size 1200x600 with 1 Axes>"
            ],
            "image/png": "[encoded data removed]"
          },
          "metadata": {}
        }
      ]
    },
    {
      "cell_type": "code",
      "source": [
        "wandb.finish()\n",
        "print(testAcc_max)"
      ],
      "metadata": {
        "colab": {
          "base_uri": "https://localhost:8080/",
          "height": 1000,
          "referenced_widgets": [
            "0befb9710b984f068621f5f28b25eab4",
            "5600ec48646d46128a60e3f136a604a2",
            "fa71f869c7c8447789cc197f205f898c",
            "bfcb4c753b474e70856f2b66b483e387",
            "9445efe7f98d4c978893e8d8f74d76f7",
            "e99993e85f08435b9fec67b4b98301c7",
            "9d5508c8fd0d40e684c0987b4ec6ac3e",
            "00032286492a4868a239a2418c713f05"
          ]
        },
        "id": "5EFDHNE1fZZq",
        "outputId": "22a4d62d-68cc-4a29-e833-0c51c1f1ea58"
      },
      "execution_count": 7,
      "outputs": [
        {
          "output_type": "display_data",
          "data": {
            "text/plain": [
              "VBox(children=(Label(value='0.001 MB of 0.001 MB uploaded\\r'), FloatProgress(value=1.0, max=1.0)))"
            ],
            "application/vnd.jupyter.widget-view+json": {
              "version_major": 2,
              "version_minor": 0,
              "model_id": "0befb9710b984f068621f5f28b25eab4"
            }
          },
          "metadata": {}
        },
        {
          "output_type": "display_data",
          "data": {
            "text/plain": [
              "<IPython.core.display.HTML object>"
            ],
            "text/html": [
              "<style>\n",
              "    table.wandb td:nth-child(1) { padding: 0 10px; text-align: left ; width: auto;} td:nth-child(2) {text-align: left ; width: 100%}\n",
              "    .wandb-row { display: flex; flex-direction: row; flex-wrap: wrap; justify-content: flex-start; width: 100% }\n",
              "    .wandb-col { display: flex; flex-direction: column; flex-basis: 100%; flex: 1; padding: 10px; }\n",
              "    </style>\n",
              "<div class=\"wandb-row\"><div class=\"wandb-col\"><h3>Run history:</h3><br/><table class=\"wandb\"><tr><td>decision_tree_accuracy</td><td>▁</td></tr><tr><td>logistic_regression_accuracy</td><td>▁</td></tr><tr><td>test_accuracy_decision_tree</td><td>▁</td></tr><tr><td>test_accuracy_depth_10</td><td>▁</td></tr><tr><td>test_accuracy_depth_15</td><td>▁</td></tr><tr><td>test_accuracy_depth_2</td><td>▁</td></tr><tr><td>test_accuracy_depth_20</td><td>▁</td></tr><tr><td>test_accuracy_depth_25</td><td>▁</td></tr><tr><td>test_accuracy_depth_3</td><td>▁</td></tr><tr><td>test_accuracy_depth_30</td><td>▁</td></tr><tr><td>test_accuracy_depth_35</td><td>▁</td></tr><tr><td>test_accuracy_depth_4</td><td>▁</td></tr><tr><td>test_accuracy_depth_40</td><td>▁</td></tr><tr><td>test_accuracy_depth_45</td><td>▁</td></tr><tr><td>test_accuracy_depth_5</td><td>▁</td></tr><tr><td>test_accuracy_depth_50</td><td>▁</td></tr><tr><td>test_accuracy_depth_6</td><td>▁</td></tr><tr><td>test_accuracy_depth_7</td><td>▁</td></tr><tr><td>test_accuracy_depth_8</td><td>▁</td></tr><tr><td>test_accuracy_depth_9</td><td>▁</td></tr><tr><td>test_accuracy_logistic_regression</td><td>▁</td></tr><tr><td>train_accuracy_depth_10</td><td>▁</td></tr><tr><td>train_accuracy_depth_15</td><td>▁</td></tr><tr><td>train_accuracy_depth_2</td><td>▁</td></tr><tr><td>train_accuracy_depth_20</td><td>▁</td></tr><tr><td>train_accuracy_depth_25</td><td>▁</td></tr><tr><td>train_accuracy_depth_3</td><td>▁</td></tr><tr><td>train_accuracy_depth_30</td><td>▁</td></tr><tr><td>train_accuracy_depth_35</td><td>▁</td></tr><tr><td>train_accuracy_depth_4</td><td>▁</td></tr><tr><td>train_accuracy_depth_40</td><td>▁</td></tr><tr><td>train_accuracy_depth_45</td><td>▁</td></tr><tr><td>train_accuracy_depth_5</td><td>▁</td></tr><tr><td>train_accuracy_depth_50</td><td>▁</td></tr><tr><td>train_accuracy_depth_6</td><td>▁</td></tr><tr><td>train_accuracy_depth_7</td><td>▁</td></tr><tr><td>train_accuracy_depth_8</td><td>▁</td></tr><tr><td>train_accuracy_depth_9</td><td>▁</td></tr></table><br/></div><div class=\"wandb-col\"><h3>Run summary:</h3><br/><table class=\"wandb\"><tr><td>decision_tree_accuracy</td><td>0.93705</td></tr><tr><td>logistic_regression_accuracy</td><td>0.50017</td></tr><tr><td>test_accuracy_decision_tree</td><td>0.5</td></tr><tr><td>test_accuracy_depth_10</td><td>0.90011</td></tr><tr><td>test_accuracy_depth_15</td><td>0.92424</td></tr><tr><td>test_accuracy_depth_2</td><td>0.77071</td></tr><tr><td>test_accuracy_depth_20</td><td>0.93469</td></tr><tr><td>test_accuracy_depth_25</td><td>0.935</td></tr><tr><td>test_accuracy_depth_3</td><td>0.81935</td></tr><tr><td>test_accuracy_depth_30</td><td>0.9357</td></tr><tr><td>test_accuracy_depth_35</td><td>0.93577</td></tr><tr><td>test_accuracy_depth_4</td><td>0.82449</td></tr><tr><td>test_accuracy_depth_40</td><td>0.93705</td></tr><tr><td>test_accuracy_depth_45</td><td>0.93705</td></tr><tr><td>test_accuracy_depth_5</td><td>0.85011</td></tr><tr><td>test_accuracy_depth_50</td><td>0.93705</td></tr><tr><td>test_accuracy_depth_6</td><td>0.86303</td></tr><tr><td>test_accuracy_depth_7</td><td>0.86772</td></tr><tr><td>test_accuracy_depth_8</td><td>0.88154</td></tr><tr><td>test_accuracy_depth_9</td><td>0.89115</td></tr><tr><td>test_accuracy_logistic_regression</td><td>1.0</td></tr><tr><td>train_accuracy_depth_10</td><td>0.90706</td></tr><tr><td>train_accuracy_depth_15</td><td>0.95381</td></tr><tr><td>train_accuracy_depth_2</td><td>0.76552</td></tr><tr><td>train_accuracy_depth_20</td><td>0.9881</td></tr><tr><td>train_accuracy_depth_25</td><td>0.99769</td></tr><tr><td>train_accuracy_depth_3</td><td>0.81553</td></tr><tr><td>train_accuracy_depth_30</td><td>0.99909</td></tr><tr><td>train_accuracy_depth_35</td><td>0.99955</td></tr><tr><td>train_accuracy_depth_4</td><td>0.82005</td></tr><tr><td>train_accuracy_depth_40</td><td>0.99957</td></tr><tr><td>train_accuracy_depth_45</td><td>0.99957</td></tr><tr><td>train_accuracy_depth_5</td><td>0.84804</td></tr><tr><td>train_accuracy_depth_50</td><td>0.99957</td></tr><tr><td>train_accuracy_depth_6</td><td>0.86188</td></tr><tr><td>train_accuracy_depth_7</td><td>0.86701</td></tr><tr><td>train_accuracy_depth_8</td><td>0.88096</td></tr><tr><td>train_accuracy_depth_9</td><td>0.89398</td></tr></table><br/></div></div>"
            ]
          },
          "metadata": {}
        },
        {
          "output_type": "display_data",
          "data": {
            "text/plain": [
              "<IPython.core.display.HTML object>"
            ],
            "text/html": [
              " View run <strong style=\"color:#cdcd00\">breezy-paper-11</strong> at: <a href='https://wandb.ai/isaacmwongela71-united-states-international-university-a5732/urlset-classification/runs/9el0fgsv' target=\"_blank\">https://wandb.ai/isaacmwongela71-united-states-international-university-a5732/urlset-classification/runs/9el0fgsv</a><br/> View project at: <a href='https://wandb.ai/isaacmwongela71-united-states-international-university-a5732/urlset-classification' target=\"_blank\">https://wandb.ai/isaacmwongela71-united-states-international-university-a5732/urlset-classification</a><br/>Synced 5 W&B file(s), 0 media file(s), 0 artifact file(s) and 0 other file(s)"
            ]
          },
          "metadata": {}
        },
        {
          "output_type": "display_data",
          "data": {
            "text/plain": [
              "<IPython.core.display.HTML object>"
            ],
            "text/html": [
              "Find logs at: <code>./wandb/run-20240723_163854-9el0fgsv/logs</code>"
            ]
          },
          "metadata": {}
        },
        {
          "output_type": "display_data",
          "data": {
            "text/plain": [
              "<IPython.core.display.HTML object>"
            ],
            "text/html": [
              "The new W&B backend becomes opt-out in version 0.18.0; try it out with `wandb.require(\"core\")`! See https://wandb.me/wandb-core for more information."
            ]
          },
          "metadata": {}
        },
        {
          "output_type": "stream",
          "name": "stdout",
          "text": [
            "0.9370529824317756\n"
          ]
        }
      ]
    }
  ]
}