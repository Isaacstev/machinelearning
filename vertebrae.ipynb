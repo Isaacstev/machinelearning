{
 "cells": [
  {
   "cell_type": "code",
   "execution_count": null,
   "id": "23707942",
   "metadata": {},
   "outputs": [],
   "source": [
    "import pandas as pd"
   ]
  },
  {
   "cell_type": "code",
   "execution_count": null,
   "id": "300eaa5b",
   "metadata": {},
   "outputs": [],
   "source": [
    "import numpy as np"
   ]
  },
  {
   "cell_type": "code",
   "execution_count": null,
   "id": "e08a5e20",
   "metadata": {},
   "outputs": [],
   "source": [
    "(-1/20*np.log2(1/20))"
   ]
  },
  {
   "cell_type": "code",
   "execution_count": null,
   "id": "09e79599",
   "metadata": {},
   "outputs": [],
   "source": [
    "(-19/20*np.log2(19/20))"
   ]
  },
  {
   "cell_type": "code",
   "execution_count": null,
   "id": "5b03760e",
   "metadata": {},
   "outputs": [],
   "source": [
    "(-1/20*np.log2(1/20))+(-19/20*np.log2(19/20))\n"
   ]
  },
  {
   "cell_type": "code",
   "execution_count": null,
   "id": "fc9ce53e",
   "metadata": {},
   "outputs": [],
   "source": [
    "(-10/20*np.log2(10/20))+(-10/20*np.log2(10/20))"
   ]
  },
  {
   "cell_type": "code",
   "execution_count": null,
   "id": "18ce1ffc",
   "metadata": {},
   "outputs": [],
   "source": [
    "(-4/20*np.log2(4/20))+(-6/20*np.log2(6/20))"
   ]
  },
  {
   "cell_type": "code",
   "execution_count": null,
   "id": "7cb184ea",
   "metadata": {},
   "outputs": [],
   "source": [
    "(-6/11*np.log2(6/11))+(-5/11*np.log2(5/11))"
   ]
  },
  {
   "cell_type": "code",
   "execution_count": null,
   "id": "2e7a8afa",
   "metadata": {},
   "outputs": [],
   "source": [
    "(-4/6*np.log2(4/6))+(-2/6*np.log2(2/6))"
   ]
  },
  {
   "cell_type": "code",
   "execution_count": null,
   "id": "f3cf0b00",
   "metadata": {},
   "outputs": [],
   "source": [
    "(-2/5*np.log2(2/5))+(-3/5*np.log2(3/5))"
   ]
  },
  {
   "cell_type": "code",
   "execution_count": null,
   "id": "6d0056f1",
   "metadata": {},
   "outputs": [],
   "source": [
    "#weighted entropy of the child\n",
    "(0.9182958340544896*6/11)+(0.9709505944546686*5/11)"
   ]
  },
  {
   "cell_type": "code",
   "execution_count": null,
   "id": "1e713a8c",
   "metadata": {},
   "outputs": [],
   "source": [
    "#knowledge gained\n",
    "0.9940302114769565-0.942229816054571"
   ]
  },
  {
   "cell_type": "code",
   "execution_count": null,
   "id": "142bf973",
   "metadata": {},
   "outputs": [],
   "source": [
    "#left side Y\n",
    "(-2/2*np.log2(2/2))+(-2/2*np.log2(2/2))"
   ]
  },
  {
   "cell_type": "code",
   "execution_count": null,
   "id": "09207bc6",
   "metadata": {},
   "outputs": [],
   "source": [
    "#right side Y\n",
    "(-2/2*np.log2(2/2))+(2/2*np.log2(2/2))"
   ]
  },
  {
   "cell_type": "code",
   "execution_count": null,
   "id": "5e71cf5f",
   "metadata": {},
   "outputs": [],
   "source": [
    "#weighted\n",
    "(2/4*0)+(2/4*0)"
   ]
  },
  {
   "cell_type": "code",
   "execution_count": null,
   "id": "95e470b6",
   "metadata": {},
   "outputs": [],
   "source": [
    "#parent y\n",
    "(-2/4*np.log2(2/4))+(-2/4*np.log2(2/4))"
   ]
  },
  {
   "cell_type": "code",
   "execution_count": null,
   "id": "d763418e",
   "metadata": {},
   "outputs": [],
   "source": [
    "#knowledge gained\n",
    "1-0\n"
   ]
  },
  {
   "cell_type": "code",
   "execution_count": null,
   "id": "c8377bd0",
   "metadata": {},
   "outputs": [],
   "source": [
    "#Left side Z\n",
    "(-1/2*np.log2(1/2))+(-1/2*np.log2(1/2))\n"
   ]
  },
  {
   "cell_type": "code",
   "execution_count": null,
   "id": "4eb954a1",
   "metadata": {},
   "outputs": [],
   "source": [
    "#Right side z\n",
    "(-1/2*np.log2(1/2))+(-1/2*np.log2(1/2))"
   ]
  },
  {
   "cell_type": "code",
   "execution_count": null,
   "id": "307c472b",
   "metadata": {},
   "outputs": [],
   "source": [
    "#Weighted\n",
    "(2/4*1)+(2/4*1)\n"
   ]
  },
  {
   "cell_type": "code",
   "execution_count": null,
   "id": "3a1be232",
   "metadata": {},
   "outputs": [],
   "source": [
    "#knowledge gained\n",
    "1-1"
   ]
  },
  {
   "cell_type": "code",
   "execution_count": null,
   "id": "51a261fe",
   "metadata": {},
   "outputs": [],
   "source": [
    "data=pd.read_csv(\"/content/vertebrate.csv\", header=\"infer\")"
   ]
  },
  {
   "cell_type": "code",
   "execution_count": null,
   "id": "94851b01",
   "metadata": {},
   "outputs": [],
   "source": [
    "data"
   ]
  },
  {
   "cell_type": "code",
   "execution_count": null,
   "id": "96b6878b",
   "metadata": {},
   "outputs": [],
   "source": [
    "data['Class']=data['Class'].replace(['reptiles','fishes','amphibians','birds'],'non-mammals')"
   ]
  },
  {
   "cell_type": "code",
   "execution_count": null,
   "id": "64b7d302",
   "metadata": {},
   "outputs": [],
   "source": [
    "data"
   ]
  },
  {
   "cell_type": "code",
   "execution_count": null,
   "id": "ebaf7d55",
   "metadata": {},
   "outputs": [],
   "source": [
    "pd.crosstab([data['Warm-blooded'],data['Gives Birth']],data['Class'])"
   ]
  },
  {
   "cell_type": "code",
   "execution_count": null,
   "id": "24b670b3",
   "metadata": {},
   "outputs": [],
   "source": [
    "from sklearn import tree"
   ]
  },
  {
   "cell_type": "code",
   "execution_count": null,
   "id": "b10c938a",
   "metadata": {},
   "outputs": [],
   "source": [
    "y=data['Class']"
   ]
  },
  {
   "cell_type": "code",
   "execution_count": null,
   "id": "2168ccb4",
   "metadata": {},
   "outputs": [],
   "source": [
    "x=data.drop(['Name','Class'],axis=1)"
   ]
  },
  {
   "cell_type": "code",
   "execution_count": null,
   "id": "10d4f638",
   "metadata": {},
   "outputs": [],
   "source": [
    "x"
   ]
  },
  {
   "cell_type": "code",
   "execution_count": null,
   "id": "10125cbe",
   "metadata": {},
   "outputs": [],
   "source": [
    "clf=tree.DecisionTreeClassifier(criterion='entropy', max_depth=3)"
   ]
  },
  {
   "cell_type": "code",
   "execution_count": null,
   "id": "7b8f97c2",
   "metadata": {},
   "outputs": [],
   "source": [
    "clf"
   ]
  },
  {
   "cell_type": "code",
   "execution_count": null,
   "id": "6655aabf",
   "metadata": {},
   "outputs": [],
   "source": [
    "clf=clf.fit(x,y)"
   ]
  },
  {
   "cell_type": "code",
   "execution_count": null,
   "id": "7f8e0d6c",
   "metadata": {},
   "outputs": [],
   "source": [
    "clf"
   ]
  },
  {
   "cell_type": "code",
   "execution_count": null,
   "id": "f5248e74",
   "metadata": {},
   "outputs": [],
   "source": [
    "import pydotplus"
   ]
  },
  {
   "cell_type": "code",
   "execution_count": null,
   "id": "f612d4b9",
   "metadata": {},
   "outputs": [],
   "source": [
    "from IPython.display import Image"
   ]
  },
  {
   "cell_type": "code",
   "execution_count": null,
   "id": "6bc19b1b",
   "metadata": {},
   "outputs": [],
   "source": [
    "dot_data=tree.export_graphviz(clf,feature_names=x.columns,class_names=['mammals','non-mammals'],filled=True,rounded=True)"
   ]
  },
  {
   "cell_type": "code",
   "execution_count": null,
   "id": "e33ea082",
   "metadata": {},
   "outputs": [],
   "source": [
    "dot_data"
   ]
  },
  {
   "cell_type": "code",
   "execution_count": null,
   "id": "13f2e190",
   "metadata": {},
   "outputs": [],
   "source": [
    "graph=pydotplus.graph_from_dot_data(dot_data)"
   ]
  },
  {
   "cell_type": "code",
   "execution_count": null,
   "id": "b7c9918d",
   "metadata": {},
   "outputs": [],
   "source": [
    "graph"
   ]
  },
  {
   "cell_type": "code",
   "execution_count": null,
   "id": "f6410b8f",
   "metadata": {},
   "outputs": [],
   "source": [
    "Image(graph.create_png())"
   ]
  },
  {
   "cell_type": "code",
   "execution_count": null,
   "id": "f6a1e685",
   "metadata": {},
   "outputs": [],
   "source": [
    "testData=[['gila monister',0,0,0,0,1,1,'non-mammals'],\n",
    "         ['platypus', 1,0,0,0,1,1,'mammals'],\n",
    "          ['owl',1,0,0,1,1,0,'non-mammals'],\n",
    "          ['dolphin',1,1,1,0,0,0,'mammals'],\n",
    "         ]"
   ]
  },
  {
   "cell_type": "code",
   "execution_count": null,
   "id": "d729bea2",
   "metadata": {},
   "outputs": [],
   "source": [
    "data.columns"
   ]
  },
  {
   "cell_type": "code",
   "execution_count": null,
   "id": "dbd0ad47",
   "metadata": {},
   "outputs": [],
   "source": [
    "testData=pd.DataFrame(testData, columns=data.columns)"
   ]
  },
  {
   "cell_type": "code",
   "execution_count": null,
   "id": "95dd4ed6",
   "metadata": {},
   "outputs": [],
   "source": [
    "testData"
   ]
  },
  {
   "cell_type": "code",
   "execution_count": null,
   "id": "8aba4d14",
   "metadata": {},
   "outputs": [],
   "source": [
    "testY=testData"
   ]
  },
  {
   "cell_type": "code",
   "execution_count": null,
   "id": "92c8a10b",
   "metadata": {},
   "outputs": [],
   "source": []
  },
  {
   "cell_type": "code",
   "execution_count": null,
   "id": "a8df729c",
   "metadata": {},
   "outputs": [],
   "source": []
  },
  {
   "cell_type": "code",
   "execution_count": null,
   "id": "236b562f",
   "metadata": {},
   "outputs": [],
   "source": []
  },
  {
   "cell_type": "code",
   "execution_count": null,
   "id": "ade37408",
   "metadata": {},
   "outputs": [],
   "source": []
  },
  {
   "cell_type": "code",
   "execution_count": null,
   "id": "62268313",
   "metadata": {},
   "outputs": [],
   "source": []
  },
  {
   "cell_type": "code",
   "execution_count": null,
   "id": "d5434ea1",
   "metadata": {},
   "outputs": [],
   "source": []
  },
  {
   "cell_type": "code",
   "execution_count": null,
   "id": "c6889acd",
   "metadata": {},
   "outputs": [],
   "source": []
  },
  {
   "cell_type": "code",
   "execution_count": null,
   "id": "ca8a4bc9",
   "metadata": {},
   "outputs": [],
   "source": []
  },
  {
   "cell_type": "code",
   "execution_count": null,
   "id": "f21714f0",
   "metadata": {},
   "outputs": [],
   "source": [
    "predY=clf.predict(testX)"
   ]
  },
  {
   "cell_type": "code",
   "execution_count": null,
   "id": "6ee638b6",
   "metadata": {},
   "outputs": [],
   "source": [
    "predY"
   ]
  },
  {
   "cell_type": "code",
   "execution_count": null,
   "id": "4675a6b7",
   "metadata": {},
   "outputs": [],
   "source": [
    "import numpy as np\n"
   ]
  },
  {
   "cell_type": "code",
   "execution_count": null,
   "id": "8ab4f09f",
   "metadata": {},
   "outputs": [],
   "source": []
  },
  {
   "cell_type": "code",
   "execution_count": null,
   "id": "bf1a7d0f",
   "metadata": {},
   "outputs": [],
   "source": [
    "testY"
   ]
  },
  {
   "cell_type": "code",
   "execution_count": null,
   "id": "6a815a47",
   "metadata": {},
   "outputs": [],
   "source": [
    "#Dtree called animals"
   ]
  },
  {
   "cell_type": "code",
   "execution_count": null,
   "id": "78bcdad8",
   "metadata": {},
   "outputs": [],
   "source": [
    "maxDepths=[2,3,4,5,6,7,8,9,10,15,20,25,30,35,40,45,50]"
   ]
  },
  {
   "cell_type": "code",
   "execution_count": null,
   "id": "289656ca",
   "metadata": {},
   "outputs": [],
   "source": [
    "len(maxDepths)"
   ]
  },
  {
   "cell_type": "code",
   "execution_count": null,
   "id": "149cf041",
   "metadata": {},
   "outputs": [],
   "source": [
    "import numpy as np"
   ]
  },
  {
   "cell_type": "code",
   "execution_count": null,
   "id": "c73b9029",
   "metadata": {},
   "outputs": [],
   "source": [
    "trainAcc=np.zeros(len(MaxDepths))"
   ]
  },
  {
   "cell_type": "code",
   "execution_count": null,
   "id": "66fb6b92",
   "metadata": {},
   "outputs": [],
   "source": [
    "#most important trainAcc or testAcc"
   ]
  },
  {
   "cell_type": "code",
   "execution_count": null,
   "id": "eccb1262",
   "metadata": {},
   "outputs": [],
   "source": [
    "index=0\n",
    "for depth in maxDepths:\n",
    "    clf=tree.DecisionTreeClassifier(max_depth=depth)\n",
    "    clf=clf.fit(x,y)\n",
    "    Y_predTrain=clf.predict(X)\n",
    "    Y_predTest=clf.predict(testX)\n",
    "    trainACC[index]=accuracy_score(y, Y_predTrain)#training data\n",
    "    testAcc[index]=accuracy_score(testY, Y_)#test data\n",
    "    index +=1\n"
   ]
  },
  {
   "cell_type": "code",
   "execution_count": null,
   "id": "237b0e02",
   "metadata": {},
   "outputs": [],
   "source": [
    "import numpy as np"
   ]
  },
  {
   "cell_type": "code",
   "execution_count": null,
   "id": "00950226",
   "metadata": {},
   "outputs": [],
   "source": [
    "import matplotlib.pyplot as plt"
   ]
  },
  {
   "cell_type": "code",
   "execution_count": null,
   "id": "82960ac1",
   "metadata": {},
   "outputs": [],
   "source": [
    "from numpy.random import random"
   ]
  },
  {
   "cell_type": "code",
   "execution_count": null,
   "id": "663e6394",
   "metadata": {},
   "outputs": [],
   "source": [
    "%matplotlib inline"
   ]
  },
  {
   "cell_type": "code",
   "execution_count": null,
   "id": "cc780aa6",
   "metadata": {},
   "outputs": [],
   "source": [
    "N=1500"
   ]
  },
  {
   "cell_type": "code",
   "execution_count": null,
   "id": "958784b5",
   "metadata": {},
   "outputs": [],
   "source": [
    "mean1=[6,14]"
   ]
  },
  {
   "cell_type": "code",
   "execution_count": null,
   "id": "e45bf892",
   "metadata": {},
   "outputs": [],
   "source": [
    "mean2=[10,6]"
   ]
  },
  {
   "cell_type": "code",
   "execution_count": null,
   "id": "aa9a7b87",
   "metadata": {},
   "outputs": [],
   "source": [
    "mean3=[14,14]"
   ]
  },
  {
   "cell_type": "code",
   "execution_count": null,
   "id": "40860756",
   "metadata": {},
   "outputs": [],
   "source": [
    "cov=[[3.5,0],[0,3.5]]"
   ]
  },
  {
   "cell_type": "code",
   "execution_count": null,
   "id": "cddb3c97",
   "metadata": {},
   "outputs": [],
   "source": [
    "np.random.seed(50)"
   ]
  },
  {
   "cell_type": "code",
   "execution_count": null,
   "id": "ea4ed023",
   "metadata": {},
   "outputs": [],
   "source": [
    "X=np.random.multivariate_normal(mean1,cov,int(N/6))"
   ]
  },
  {
   "cell_type": "code",
   "execution_count": null,
   "id": "14628d2c",
   "metadata": {},
   "outputs": [],
   "source": [
    "X=np.concatenate((X,np.random.multivariate_normal(mean2,cov,int(N/6))))"
   ]
  },
  {
   "cell_type": "code",
   "execution_count": null,
   "id": "ca17d118",
   "metadata": {},
   "outputs": [],
   "source": [
    "X=np.concatenate((X,np.random.multivariate_normal(mean3,cov,int(N/6))))"
   ]
  },
  {
   "cell_type": "code",
   "execution_count": null,
   "id": "f18ae736",
   "metadata": {},
   "outputs": [],
   "source": [
    "X=np.concatenate((X,20*np.random.rand(int(N/2),2)))"
   ]
  },
  {
   "cell_type": "code",
   "execution_count": null,
   "id": "c6ddcacb",
   "metadata": {},
   "outputs": [],
   "source": [
    "y=np.concatenate((np.ones(int(N/2)),np.zeros(int(N/2))))"
   ]
  },
  {
   "cell_type": "code",
   "execution_count": null,
   "id": "3cf8b2d3",
   "metadata": {},
   "outputs": [],
   "source": [
    "X.shape"
   ]
  },
  {
   "cell_type": "code",
   "execution_count": null,
   "id": "77c2b0fb",
   "metadata": {},
   "outputs": [],
   "source": [
    "y"
   ]
  },
  {
   "cell_type": "code",
   "execution_count": null,
   "id": "1b2de9b0",
   "metadata": {},
   "outputs": [],
   "source": [
    "plt.plot(X[:int(N/2),0],X[:int(N/2),1],'r+',X[int(N/2):,0],X[int(N/2):,1],'k.',ms=4)"
   ]
  },
  {
   "cell_type": "code",
   "execution_count": null,
   "id": "ce9e19fb",
   "metadata": {},
   "outputs": [],
   "source": [
    "from sklearn"
   ]
  },
  {
   "cell_type": "code",
   "execution_count": null,
   "id": "009fe140",
   "metadata": {},
   "outputs": [],
   "source": [
    "maxDepths=[2,3,4,5,6,7,8,9,10,15,20,25,30,35,40,45,50]"
   ]
  },
  {
   "cell_type": "code",
   "execution_count": null,
   "id": "ccc04ccf",
   "metadata": {},
   "outputs": [],
   "source": [
    "len(maxDepths)"
   ]
  },
  {
   "cell_type": "code",
   "execution_count": null,
   "id": "61f99652",
   "metadata": {},
   "outputs": [],
   "source": [
    "import numpy as np"
   ]
  },
  {
   "cell_type": "code",
   "execution_count": null,
   "id": "a99ee38d",
   "metadata": {},
   "outputs": [],
   "source": [
    "trainAcc=np.zeros(len(maxDepths))"
   ]
  },
  {
   "cell_type": "code",
   "execution_count": null,
   "id": "71b286cf",
   "metadata": {},
   "outputs": [],
   "source": [
    "trainAcc"
   ]
  },
  {
   "cell_type": "code",
   "execution_count": null,
   "id": "cb538822",
   "metadata": {},
   "outputs": [],
   "source": [
    "testAcc=np.zeros(len(maxDepths))"
   ]
  },
  {
   "cell_type": "code",
   "execution_count": null,
   "id": "3fca7943",
   "metadata": {},
   "outputs": [],
   "source": [
    "testAcc"
   ]
  },
  {
   "cell_type": "code",
   "execution_count": null,
   "id": "0e5077e5",
   "metadata": {},
   "outputs": [],
   "source": [
    "from sklearn.model_selection import train_test_split"
   ]
  },
  {
   "cell_type": "code",
   "execution_count": null,
   "id": "3d5dbcd5",
   "metadata": {},
   "outputs": [],
   "source": [
    "from sklearn.metrics import accuracy_score"
   ]
  },
  {
   "cell_type": "code",
   "execution_count": null,
   "id": "26984c91",
   "metadata": {},
   "outputs": [],
   "source": [
    "X_train, X_test, y_train, y_test = train_test_split(X, y, test_size=0.2, random_state=42)"
   ]
  },
  {
   "cell_type": "code",
   "execution_count": null,
   "id": "034f5731",
   "metadata": {},
   "outputs": [],
   "source": []
  },
  {
   "cell_type": "code",
   "execution_count": null,
   "id": "e7a147d4",
   "metadata": {},
   "outputs": [],
   "source": [
    "from sklearn import tree"
   ]
  },
  {
   "cell_type": "code",
   "execution_count": null,
   "id": "fc1a2835",
   "metadata": {},
   "outputs": [],
   "source": [
    "index=0\n",
    "for depth in maxDepths:\n",
    "    clf=tree.DecisionTreeClassifier(max_depth=depth)\n",
    "    clf=clf.fit(X_train,y_train)\n",
    "    Y_predTrain=clf.predict(X_train)\n",
    "    Y_predTest=clf.predict(X_test)\n",
    "    trainAcc[index]=accuracy_score(y_train, Y_predTrain)#training data\n",
    "    testAcc[index]=accuracy_score(y_test, Y_predTest)#test data\n",
    "    index +=1"
   ]
  },
  {
   "cell_type": "code",
   "execution_count": null,
   "id": "d7a6ddf9",
   "metadata": {},
   "outputs": [],
   "source": [
    "trainAcc"
   ]
  },
  {
   "cell_type": "code",
   "execution_count": null,
   "id": "2a632438",
   "metadata": {},
   "outputs": [],
   "source": [
    "testAcc"
   ]
  },
  {
   "cell_type": "code",
   "execution_count": null,
   "id": "c754194b",
   "metadata": {},
   "outputs": [],
   "source": [
    "import matplotlib.pyplot as plt"
   ]
  },
  {
   "cell_type": "code",
   "execution_count": null,
   "id": "527e4b4a",
   "metadata": {},
   "outputs": [],
   "source": [
    "plt.plot(maxDepths,trainAcc,'ro-',maxDepths,testAcc,'bv--')\n",
    "plt.legend(['Training Accuracy','Test Accuracy'])\n",
    "plt.xlabel('Max Depth')\n",
    "plt.ylabel('Accuracy')\n",
    "plt.show()"
   ]
  },
  {
   "cell_type": "code",
   "execution_count": null,
   "id": "872da248",
   "metadata": {},
   "outputs": [],
   "source": [
    "testAcc.max()"
   ]
  },
  {
   "cell_type": "code",
   "execution_count": null,
   "id": "c5990ae1",
   "metadata": {},
   "outputs": [],
   "source": []
  }
 ],
 "metadata": {},
 "nbformat": 4,
 "nbformat_minor": 5
}
